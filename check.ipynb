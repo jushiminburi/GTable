{
 "cells": [
  {
   "cell_type": "code",
   "execution_count": 1,
   "outputs": [],
   "source": [
    "import cv2\n",
    "import layoutparser as lp"
   ],
   "metadata": {
    "collapsed": false,
    "ExecuteTime": {
     "end_time": "2023-10-19T04:10:53.603613Z",
     "start_time": "2023-10-19T04:10:53.368672Z"
    }
   },
   "id": "85aa44a10a8352f"
  },
  {
   "cell_type": "code",
   "execution_count": 19,
   "outputs": [],
   "source": [
    "image = cv2.imread(\"./test1.png\")\n",
    "image = image[..., ::-1] "
   ],
   "metadata": {
    "collapsed": false,
    "ExecuteTime": {
     "end_time": "2023-10-19T04:26:14.789749Z",
     "start_time": "2023-10-19T04:26:14.779957Z"
    }
   },
   "id": "b5e87938b51dcc1d"
  },
  {
   "cell_type": "code",
   "execution_count": 4,
   "outputs": [
    {
     "name": "stderr",
     "output_type": "stream",
     "text": [
      "config.yml?dl=1: 8.19kB [00:01, 4.14kB/s]\n",
      "model_final.pth?dl=1: 330MB [02:28, 2.22MB/s]                               \n"
     ]
    }
   ],
   "source": [
    "model = lp.models.Detectron2LayoutModel('lp://PubLayNet/faster_rcnn_R_50_FPN_3x/config', \n",
    "                                 extra_config=[\"MODEL.ROI_HEADS.SCORE_THRESH_TEST\", 0.8],\n",
    "                                 label_map={0: \"Text\", 1: \"Title\", 2: \"List\", 3:\"Table\", 4:\"Figure\"})"
   ],
   "metadata": {
    "collapsed": false,
    "ExecuteTime": {
     "end_time": "2023-10-19T04:13:52.528853Z",
     "start_time": "2023-10-19T04:11:20.974434Z"
    }
   },
   "id": "6b4ebb94aee36681"
  },
  {
   "cell_type": "code",
   "execution_count": 20,
   "outputs": [],
   "source": [
    "layout=model.detect(image)"
   ],
   "metadata": {
    "collapsed": false,
    "ExecuteTime": {
     "end_time": "2023-10-19T04:26:22.630779Z",
     "start_time": "2023-10-19T04:26:20.268083Z"
    }
   },
   "id": "6c4eafbac1df488d"
  },
  {
   "cell_type": "code",
   "execution_count": 7,
   "outputs": [],
   "source": [
    "import warnings\n",
    "warnings.filterwarnings(\"ignore\") \n"
   ],
   "metadata": {
    "collapsed": false,
    "ExecuteTime": {
     "end_time": "2023-10-19T04:16:00.922764Z",
     "start_time": "2023-10-19T04:16:00.919975Z"
    }
   },
   "id": "c4b4f9bd6d61a94a"
  },
  {
   "cell_type": "code",
   "execution_count": 21,
   "outputs": [],
   "source": [
    "layout=model.detect(image)"
   ],
   "metadata": {
    "collapsed": false,
    "ExecuteTime": {
     "end_time": "2023-10-19T04:26:30.027592Z",
     "start_time": "2023-10-19T04:26:27.911179Z"
    }
   },
   "id": "cbaaa92a38c0ebde"
  },
  {
   "cell_type": "code",
   "execution_count": 23,
   "outputs": [
    {
     "data": {
      "text/plain": "Layout(_blocks=[TextBlock(block=Rectangle(x_1=246.0516357421875, y_1=45.710880279541016, x_2=596.51904296875, y_2=253.23768615722656), text=None, id=None, type=Figure, parent=None, next=None, score=0.9850865602493286), TextBlock(block=Rectangle(x_1=41.831336975097656, y_1=45.48809051513672, x_2=519.620361328125, y_2=253.3079376220703), text=None, id=None, type=Figure, parent=None, next=None, score=0.984777569770813)], page_data={})"
     },
     "execution_count": 23,
     "metadata": {},
     "output_type": "execute_result"
    }
   ],
   "source": [
    "layout"
   ],
   "metadata": {
    "collapsed": false,
    "ExecuteTime": {
     "end_time": "2023-10-19T04:26:37.997799Z",
     "start_time": "2023-10-19T04:26:37.990476Z"
    }
   },
   "id": "865d1eb39f240b90"
  },
  {
   "cell_type": "code",
   "execution_count": 24,
   "outputs": [
    {
     "name": "stdout",
     "output_type": "stream",
     "text": [
      "TextBlock(block=Rectangle(x_1=246.0516357421875, y_1=45.710880279541016, x_2=596.51904296875, y_2=253.23768615722656), text=None, id=None, type=Figure, parent=None, next=None, score=0.9850865602493286)\n",
      "246.0516357421875\n"
     ]
    }
   ],
   "source": [
    "x_1=0\n",
    "y_1=0\n",
    "x_2=0\n",
    "y_2=0\n",
    "\n",
    "for l in layout:\n",
    "  print(l)\n",
    "  if l.type == 'Figure':\n",
    "    x_1 = int(l.block.x_1)\n",
    "    print(l.block.x_1)\n",
    "    y_1 = int(l.block.y_1)\n",
    "    x_2 = int(l.block.x_2)\n",
    "    y_2 = int(l.block.y_2)\n",
    "    \n",
    "    break"
   ],
   "metadata": {
    "collapsed": false,
    "ExecuteTime": {
     "end_time": "2023-10-19T04:26:46.259434Z",
     "start_time": "2023-10-19T04:26:46.253833Z"
    }
   },
   "id": "38fb181be3ce95c0"
  },
  {
   "cell_type": "code",
   "execution_count": 25,
   "outputs": [
    {
     "name": "stdout",
     "output_type": "stream",
     "text": [
      "246 45 596 253\n"
     ]
    }
   ],
   "source": [
    "print(x_1,y_1,x_2,y_2)"
   ],
   "metadata": {
    "collapsed": false,
    "ExecuteTime": {
     "end_time": "2023-10-19T04:26:50.006412Z",
     "start_time": "2023-10-19T04:26:50.001563Z"
    }
   },
   "id": "5ffd40e03191d16c"
  },
  {
   "cell_type": "code",
   "execution_count": 26,
   "outputs": [],
   "source": [
    "im = cv2.imread('./test1.png')"
   ],
   "metadata": {
    "collapsed": false,
    "ExecuteTime": {
     "end_time": "2023-10-19T04:26:55.473828Z",
     "start_time": "2023-10-19T04:26:55.462662Z"
    }
   },
   "id": "37493671852564c7"
  },
  {
   "cell_type": "code",
   "execution_count": 27,
   "outputs": [
    {
     "data": {
      "text/plain": "True"
     },
     "execution_count": 27,
     "metadata": {},
     "output_type": "execute_result"
    }
   ],
   "source": [
    "cv2.imwrite('test_im.png', im[y_1:y_2,x_1:x_2])"
   ],
   "metadata": {
    "collapsed": false,
    "ExecuteTime": {
     "end_time": "2023-10-19T04:26:57.229111Z",
     "start_time": "2023-10-19T04:26:57.220263Z"
    }
   },
   "id": "327d6b4d21ad0e7c"
  },
  {
   "cell_type": "code",
   "execution_count": 28,
   "outputs": [],
   "source": [
    "from paddleocr import PaddleOCR, draw_ocr"
   ],
   "metadata": {
    "collapsed": false,
    "ExecuteTime": {
     "end_time": "2023-10-19T04:32:10.138929Z",
     "start_time": "2023-10-19T04:32:08.307349Z"
    }
   },
   "id": "5bf60659121e1fd8"
  },
  {
   "cell_type": "code",
   "execution_count": 30,
   "outputs": [
    {
     "name": "stdout",
     "output_type": "stream",
     "text": [
      "download https://paddleocr.bj.bcebos.com/PP-OCRv3/english/en_PP-OCRv3_det_infer.tar to /Users/vhmt.vn/.paddleocr/whl/det/en/en_PP-OCRv3_det_infer/en_PP-OCRv3_det_infer.tar\n"
     ]
    },
    {
     "name": "stderr",
     "output_type": "stream",
     "text": [
      "\n",
      "  0%|          | 0.00/4.00M [00:00<?, ?iB/s]\u001B[A\n",
      "  0%|          | 3.07k/4.00M [00:01<30:56, 2.16kiB/s]\u001B[A\n",
      "  0%|          | 19.5k/4.00M [00:02<05:42, 11.6kiB/s]\u001B[A\n",
      "  1%|          | 35.8k/4.00M [00:02<03:05, 21.4kiB/s]\u001B[A\n",
      "  1%|▏         | 52.2k/4.00M [00:02<02:10, 30.3kiB/s]\u001B[A\n",
      "  2%|▏         | 68.6k/4.00M [00:03<02:07, 30.7kiB/s]\u001B[A\n",
      "  2%|▏         | 85.0k/4.00M [00:03<01:44, 37.5kiB/s]\u001B[A\n",
      "  3%|▎         | 101k/4.00M [00:03<01:28, 43.9kiB/s] \u001B[A\n",
      "  3%|▎         | 118k/4.00M [00:03<01:19, 48.7kiB/s]\u001B[A\n",
      "  3%|▎         | 134k/4.00M [00:04<01:13, 52.7kiB/s]\u001B[A\n",
      "  4%|▍         | 151k/4.00M [00:04<01:09, 55.6kiB/s]\u001B[A\n",
      "  4%|▍         | 167k/4.00M [00:04<01:06, 57.9kiB/s]\u001B[A\n",
      "  5%|▍         | 183k/4.00M [00:04<01:04, 59.4kiB/s]\u001B[A\n",
      "  5%|▍         | 200k/4.00M [00:05<01:02, 60.9kiB/s]\u001B[A\n",
      "  5%|▌         | 216k/4.00M [00:05<01:19, 47.7kiB/s]\u001B[A\n",
      "  6%|▌         | 249k/4.00M [00:05<00:56, 67.0kiB/s]\u001B[A\n",
      "  7%|▋         | 265k/4.00M [00:06<00:56, 66.3kiB/s]\u001B[A\n",
      "  7%|▋         | 298k/4.00M [00:06<00:44, 82.5kiB/s]\u001B[A\n",
      "  8%|▊         | 314k/4.00M [00:06<00:47, 77.9kiB/s]\u001B[A\n",
      "  8%|▊         | 331k/4.00M [00:06<00:50, 73.4kiB/s]\u001B[A\n",
      "  9%|▊         | 347k/4.00M [00:07<01:11, 50.9kiB/s]\u001B[A\n",
      "  9%|▉         | 364k/4.00M [00:09<02:52, 21.1kiB/s]\u001B[A\n",
      "  9%|▉         | 380k/4.00M [00:09<02:19, 26.1kiB/s]\u001B[A\n",
      " 10%|█         | 413k/4.00M [00:10<01:29, 40.2kiB/s]\u001B[A\n",
      " 11%|█         | 429k/4.00M [00:10<01:21, 43.8kiB/s]\u001B[A\n",
      " 12%|█▏        | 462k/4.00M [00:10<00:59, 59.9kiB/s]\u001B[A\n",
      " 12%|█▏        | 495k/4.00M [00:10<00:46, 74.9kiB/s]\u001B[A\n",
      " 13%|█▎        | 511k/4.00M [00:11<00:48, 71.8kiB/s]\u001B[A\n",
      " 14%|█▎        | 544k/4.00M [00:11<00:40, 86.0kiB/s]\u001B[A\n",
      " 15%|█▍        | 593k/4.00M [00:11<00:29, 114kiB/s] \u001B[A\n",
      " 16%|█▌        | 626k/4.00M [00:11<00:28, 117kiB/s]\u001B[A\n",
      " 16%|█▋        | 658k/4.00M [00:12<00:27, 120kiB/s]\u001B[A\n",
      " 17%|█▋        | 691k/4.00M [00:12<00:27, 123kiB/s]\u001B[A\n",
      " 18%|█▊        | 724k/4.00M [00:12<00:26, 123kiB/s]\u001B[A\n",
      " 19%|█▉        | 773k/4.00M [00:12<00:22, 143kiB/s]\u001B[A\n",
      " 21%|██        | 822k/4.00M [00:13<00:20, 157kiB/s]\u001B[A\n",
      " 21%|██▏       | 855k/4.00M [00:13<00:21, 147kiB/s]\u001B[A\n",
      " 23%|██▎       | 921k/4.00M [00:13<00:17, 179kiB/s]\u001B[A\n",
      " 24%|██▍       | 970k/4.00M [00:13<00:16, 181kiB/s]\u001B[A\n",
      " 26%|██▋       | 1.05M/4.00M [00:14<00:13, 219kiB/s]\u001B[A\n",
      " 28%|██▊       | 1.13M/4.00M [00:14<00:11, 251kiB/s]\u001B[A\n",
      " 30%|███       | 1.22M/4.00M [00:14<00:10, 266kiB/s]\u001B[A\n",
      " 32%|███▏      | 1.30M/4.00M [00:14<00:09, 284kiB/s]\u001B[A\n",
      " 35%|███▍      | 1.40M/4.00M [00:15<00:08, 313kiB/s]\u001B[A\n",
      " 38%|███▊      | 1.53M/4.00M [00:15<00:06, 368kiB/s]\u001B[A\n",
      " 42%|████▏     | 1.67M/4.00M [00:15<00:05, 433kiB/s]\u001B[A\n",
      " 46%|████▌     | 1.84M/4.00M [00:15<00:04, 492kiB/s]\u001B[A\n",
      " 50%|████▉     | 2.00M/4.00M [00:16<00:03, 528kiB/s]\u001B[A\n",
      " 54%|█████▍    | 2.18M/4.00M [00:16<00:03, 577kiB/s]\u001B[A\n",
      " 60%|██████    | 2.41M/4.00M [00:16<00:02, 688kiB/s]\u001B[A\n",
      " 66%|██████▌   | 2.62M/4.00M [00:17<00:01, 727kiB/s]\u001B[A\n",
      " 72%|███████▏  | 2.87M/4.00M [00:17<00:01, 793kiB/s]\u001B[A\n",
      " 77%|███████▋  | 3.10M/4.00M [00:17<00:01, 823kiB/s]\u001B[A\n",
      " 84%|████████▍ | 3.38M/4.00M [00:17<00:00, 895kiB/s]\u001B[A\n",
      " 91%|█████████ | 3.64M/4.00M [00:17<00:00, 1.14MiB/s]\u001B[A\n",
      "100%|██████████| 4.00M/4.00M [00:18<00:00, 221kiB/s] \u001B[A\n"
     ]
    },
    {
     "name": "stdout",
     "output_type": "stream",
     "text": [
      "download https://paddleocr.bj.bcebos.com/PP-OCRv3/english/en_PP-OCRv3_rec_infer.tar to /Users/vhmt.vn/.paddleocr/whl/rec/en/en_PP-OCRv3_rec_infer/en_PP-OCRv3_rec_infer.tar\n"
     ]
    },
    {
     "name": "stderr",
     "output_type": "stream",
     "text": [
      "\n",
      "  0%|          | 0.00/9.96M [00:00<?, ?iB/s]\u001B[A\n",
      "  0%|          | 3.07k/9.96M [00:00<27:03, 6.13kiB/s]\u001B[A\n",
      "  0%|          | 19.5k/9.96M [00:00<05:28, 30.3kiB/s]\u001B[A\n",
      "  0%|          | 35.8k/9.96M [00:01<07:31, 22.0kiB/s]\u001B[A\n",
      "  1%|          | 52.2k/9.96M [00:09<41:03, 4.02kiB/s]\u001B[A\n",
      "  1%|          | 68.6k/9.96M [00:10<26:06, 6.32kiB/s]\u001B[A\n",
      "  1%|          | 85.0k/9.96M [00:10<17:39, 9.32kiB/s]\u001B[A\n",
      "  1%|          | 118k/9.96M [00:10<09:22, 17.5kiB/s] \u001B[A\n",
      "  2%|▏         | 167k/9.96M [00:10<04:55, 33.2kiB/s]\u001B[A\n",
      "  2%|▏         | 200k/9.96M [00:11<03:42, 44.0kiB/s]\u001B[A\n",
      "  2%|▏         | 232k/9.96M [00:11<02:54, 55.8kiB/s]\u001B[A\n",
      "  3%|▎         | 282k/9.96M [00:11<02:03, 78.4kiB/s]\u001B[A\n",
      "  3%|▎         | 331k/9.96M [00:11<01:35, 100kiB/s] \u001B[A\n",
      "  4%|▍         | 396k/9.96M [00:12<01:11, 134kiB/s]\u001B[A\n",
      "  4%|▍         | 445k/9.96M [00:12<01:04, 148kiB/s]\u001B[A\n",
      "  5%|▍         | 495k/9.96M [00:12<00:59, 159kiB/s]\u001B[A\n",
      "  6%|▌         | 560k/9.96M [00:12<00:50, 185kiB/s]\u001B[A\n",
      "  6%|▌         | 609k/9.96M [00:13<00:49, 187kiB/s]\u001B[A\n",
      "  7%|▋         | 675k/9.96M [00:13<00:44, 209kiB/s]\u001B[A\n",
      "  7%|▋         | 724k/9.96M [00:13<00:45, 201kiB/s]\u001B[A\n",
      "  8%|▊         | 806k/9.96M [00:13<00:38, 238kiB/s]\u001B[A\n",
      "  9%|▊         | 871k/9.96M [00:14<00:37, 243kiB/s]\u001B[A\n",
      "  9%|▉         | 937k/9.96M [00:14<00:36, 248kiB/s]\u001B[A\n",
      " 10%|█         | 1.02M/9.96M [00:14<00:34, 261kiB/s]\u001B[A\n",
      " 11%|█         | 1.10M/9.96M [00:15<00:30, 287kiB/s]\u001B[A\n",
      " 12%|█▏        | 1.20M/9.96M [00:15<00:28, 312kiB/s]\u001B[A\n",
      " 13%|█▎        | 1.30M/9.96M [00:15<00:25, 335kiB/s]\u001B[A\n",
      " 14%|█▍        | 1.43M/9.96M [00:15<00:21, 389kiB/s]\u001B[A\n",
      " 16%|█▌        | 1.56M/9.96M [00:16<00:19, 436kiB/s]\u001B[A\n",
      " 17%|█▋        | 1.72M/9.96M [00:16<00:17, 479kiB/s]\u001B[A\n",
      " 19%|█▉        | 1.89M/9.96M [00:16<00:15, 536kiB/s]\u001B[A\n",
      " 21%|██        | 2.07M/9.96M [00:16<00:13, 601kiB/s]\u001B[A\n",
      " 22%|██▏       | 2.15M/9.96M [00:16<00:12, 632kiB/s]\u001B[A\n",
      " 23%|██▎       | 2.28M/9.96M [00:17<00:11, 683kiB/s]\u001B[A\n",
      " 25%|██▌       | 2.51M/9.96M [00:17<00:09, 757kiB/s]\u001B[A\n",
      " 27%|██▋       | 2.74M/9.96M [00:17<00:08, 808kiB/s]\u001B[A\n",
      " 30%|███       | 3.02M/9.96M [00:17<00:07, 898kiB/s]\u001B[A\n",
      " 33%|███▎      | 3.33M/9.96M [00:18<00:06, 1.01MiB/s]\u001B[A\n",
      " 37%|███▋      | 3.67M/9.96M [00:18<00:05, 1.08MiB/s]\u001B[A\n",
      " 40%|████      | 4.02M/9.96M [00:18<00:05, 1.18MiB/s]\u001B[A\n",
      " 44%|████▍     | 4.36M/9.96M [00:18<00:03, 1.50MiB/s]\u001B[A\n",
      " 46%|████▌     | 4.54M/9.96M [00:18<00:03, 1.37MiB/s]\u001B[A\n",
      " 49%|████▊     | 4.85M/9.96M [00:19<00:03, 1.40MiB/s]\u001B[A\n",
      " 53%|█████▎    | 5.26M/9.96M [00:19<00:02, 1.83MiB/s]\u001B[A\n",
      " 55%|█████▍    | 5.48M/9.96M [00:19<00:02, 1.55MiB/s]\u001B[A\n",
      " 58%|█████▊    | 5.79M/9.96M [00:19<00:02, 1.51MiB/s]\u001B[A\n",
      " 61%|██████    | 6.07M/9.96M [00:19<00:02, 1.72MiB/s]\u001B[A\n",
      " 63%|██████▎   | 6.31M/9.96M [00:19<00:02, 1.79MiB/s]\u001B[A\n",
      " 67%|██████▋   | 6.70M/9.96M [00:19<00:01, 2.13MiB/s]\u001B[A\n",
      " 70%|██████▉   | 6.94M/9.96M [00:20<00:01, 1.96MiB/s]\u001B[A\n",
      " 74%|███████▎  | 7.34M/9.96M [00:20<00:01, 2.34MiB/s]\u001B[A\n",
      " 76%|███████▌  | 7.59M/9.96M [00:20<00:01, 2.29MiB/s]\u001B[A\n",
      " 79%|███████▊  | 7.83M/9.96M [00:20<00:00, 2.29MiB/s]\u001B[A\n",
      " 82%|████████▏ | 8.21M/9.96M [00:20<00:00, 2.31MiB/s]\u001B[A\n",
      " 87%|████████▋ | 8.71M/9.96M [00:20<00:00, 2.95MiB/s]\u001B[A\n",
      " 91%|█████████ | 9.02M/9.96M [00:20<00:00, 2.56MiB/s]\u001B[A\n",
      " 95%|█████████▍| 9.42M/9.96M [00:20<00:00, 2.90MiB/s]\u001B[A\n",
      "100%|██████████| 9.96M/9.96M [00:21<00:00, 471kiB/s] \u001B[A\n"
     ]
    },
    {
     "name": "stdout",
     "output_type": "stream",
     "text": [
      "download https://paddleocr.bj.bcebos.com/dygraph_v2.0/ch/ch_ppocr_mobile_v2.0_cls_infer.tar to /Users/vhmt.vn/.paddleocr/whl/cls/ch_ppocr_mobile_v2.0_cls_infer/ch_ppocr_mobile_v2.0_cls_infer.tar\n"
     ]
    },
    {
     "name": "stderr",
     "output_type": "stream",
     "text": [
      "\n",
      "  0%|          | 0.00/2.19M [00:00<?, ?iB/s]\u001B[A\n",
      "  0%|          | 3.07k/2.19M [00:00<03:45, 9.69kiB/s]\u001B[A\n",
      "  1%|          | 19.5k/2.19M [00:00<00:43, 50.2kiB/s]\u001B[A\n",
      "  2%|▏         | 35.8k/2.19M [00:00<00:36, 58.9kiB/s]\u001B[A\n",
      "  4%|▍         | 85.0k/2.19M [00:00<00:18, 115kiB/s] \u001B[A\n",
      "  5%|▍         | 101k/2.19M [00:01<00:22, 91.7kiB/s]\u001B[A\n",
      "  6%|▌         | 134k/2.19M [00:01<00:19, 105kiB/s] \u001B[A\n",
      "  8%|▊         | 167k/2.19M [00:01<00:17, 113kiB/s]\u001B[A\n",
      " 16%|█▌        | 347k/2.19M [00:02<00:06, 297kiB/s]\u001B[A\n",
      " 19%|█▉        | 413k/2.19M [00:02<00:06, 289kiB/s]\u001B[A\n",
      " 24%|██▍       | 527k/2.19M [00:02<00:04, 341kiB/s]\u001B[A\n",
      " 39%|███▉      | 855k/2.19M [00:02<00:02, 641kiB/s]\u001B[A\n",
      " 42%|████▏     | 921k/2.19M [00:03<00:02, 517kiB/s]\u001B[A\n",
      " 47%|████▋     | 1.04M/2.19M [00:03<00:02, 509kiB/s]\u001B[A\n",
      " 50%|████▉     | 1.09M/2.19M [00:04<00:05, 212kiB/s]\u001B[A\n",
      " 51%|█████▏    | 1.13M/2.19M [00:04<00:06, 169kiB/s]\u001B[A\n",
      " 53%|█████▎    | 1.15M/2.19M [00:05<00:09, 113kiB/s]\u001B[A\n",
      " 54%|█████▎    | 1.18M/2.19M [00:06<00:11, 90.8kiB/s]\u001B[A\n",
      " 54%|█████▍    | 1.19M/2.19M [00:07<00:15, 64.2kiB/s]\u001B[A\n",
      " 55%|█████▌    | 1.20M/2.19M [00:07<00:18, 53.7kiB/s]\u001B[A\n",
      " 56%|█████▌    | 1.22M/2.19M [00:08<00:27, 34.8kiB/s]\u001B[A\n",
      " 56%|█████▋    | 1.23M/2.19M [00:09<00:26, 35.8kiB/s]\u001B[A\n",
      " 57%|█████▋    | 1.25M/2.19M [00:09<00:26, 35.3kiB/s]\u001B[A\n",
      " 58%|█████▊    | 1.26M/2.19M [00:10<00:30, 29.8kiB/s]\u001B[A\n",
      " 59%|█████▉    | 1.30M/2.19M [00:10<00:21, 40.8kiB/s]\u001B[A\n",
      " 60%|██████    | 1.31M/2.19M [00:11<00:23, 37.0kiB/s]\u001B[A\n",
      " 61%|██████    | 1.33M/2.19M [00:11<00:25, 33.1kiB/s]\u001B[A\n",
      " 62%|██████▏   | 1.35M/2.19M [00:12<00:20, 41.3kiB/s]\u001B[A\n",
      " 62%|██████▏   | 1.36M/2.19M [00:12<00:21, 38.7kiB/s]\u001B[A\n",
      " 63%|██████▎   | 1.38M/2.19M [00:12<00:18, 43.8kiB/s]\u001B[A\n",
      " 64%|██████▍   | 1.40M/2.19M [00:13<00:16, 48.9kiB/s]\u001B[A\n",
      " 65%|██████▍   | 1.41M/2.19M [00:13<00:18, 42.0kiB/s]\u001B[A\n",
      " 65%|██████▌   | 1.43M/2.19M [00:13<00:16, 46.8kiB/s]\u001B[A\n",
      " 66%|██████▌   | 1.44M/2.19M [00:14<00:15, 48.2kiB/s]\u001B[A\n",
      " 67%|██████▋   | 1.46M/2.19M [00:14<00:17, 42.1kiB/s]\u001B[A\n",
      " 68%|██████▊   | 1.48M/2.19M [00:14<00:13, 51.0kiB/s]\u001B[A\n",
      " 68%|██████▊   | 1.49M/2.19M [00:15<00:14, 47.5kiB/s]\u001B[A\n",
      " 69%|██████▉   | 1.51M/2.19M [00:15<00:15, 44.3kiB/s]\u001B[A\n",
      " 70%|██████▉   | 1.53M/2.19M [00:16<00:14, 45.7kiB/s]\u001B[A\n",
      " 71%|███████   | 1.54M/2.19M [00:16<00:13, 47.9kiB/s]\u001B[A\n",
      " 71%|███████▏  | 1.56M/2.19M [00:16<00:15, 40.8kiB/s]\u001B[A\n",
      " 72%|███████▏  | 1.58M/2.19M [00:17<00:12, 50.4kiB/s]\u001B[A\n",
      " 73%|███████▎  | 1.59M/2.19M [00:17<00:13, 43.6kiB/s]\u001B[A\n",
      " 73%|███████▎  | 1.61M/2.19M [00:17<00:13, 43.8kiB/s]\u001B[A\n",
      " 75%|███████▍  | 1.64M/2.19M [00:18<00:09, 58.0kiB/s]\u001B[A\n",
      " 76%|███████▌  | 1.66M/2.19M [00:18<00:07, 69.1kiB/s]\u001B[A\n",
      " 76%|███████▋  | 1.67M/2.19M [00:18<00:09, 52.0kiB/s]\u001B[A\n",
      " 77%|███████▋  | 1.69M/2.19M [00:19<00:09, 50.3kiB/s]\u001B[A\n",
      " 79%|███████▊  | 1.72M/2.19M [00:19<00:06, 68.8kiB/s]\u001B[A\n",
      " 79%|███████▉  | 1.74M/2.19M [00:19<00:06, 69.6kiB/s]\u001B[A\n",
      " 80%|████████  | 1.76M/2.19M [00:20<00:06, 62.4kiB/s]\u001B[A\n",
      " 82%|████████▏ | 1.79M/2.19M [00:20<00:05, 75.2kiB/s]\u001B[A\n",
      " 82%|████████▏ | 1.81M/2.19M [00:20<00:04, 78.4kiB/s]\u001B[A\n",
      " 83%|████████▎ | 1.82M/2.19M [00:20<00:04, 80.8kiB/s]\u001B[A\n",
      " 84%|████████▍ | 1.84M/2.19M [00:20<00:04, 80.6kiB/s]\u001B[A\n",
      " 85%|████████▍ | 1.85M/2.19M [00:21<00:05, 58.2kiB/s]\u001B[A\n",
      " 86%|████████▌ | 1.89M/2.19M [00:21<00:04, 68.7kiB/s]\u001B[A\n",
      " 87%|████████▋ | 1.90M/2.19M [00:22<00:05, 54.1kiB/s]\u001B[A\n",
      " 89%|████████▉ | 1.95M/2.19M [00:22<00:02, 89.5kiB/s]\u001B[A\n",
      " 90%|████████▉ | 1.97M/2.19M [00:22<00:02, 87.7kiB/s]\u001B[A\n",
      " 91%|█████████ | 1.99M/2.19M [00:23<00:03, 65.7kiB/s]\u001B[A\n",
      " 92%|█████████▏| 2.02M/2.19M [00:23<00:02, 83.4kiB/s]\u001B[A\n",
      " 94%|█████████▎| 2.05M/2.19M [00:23<00:01, 92.0kiB/s]\u001B[A\n",
      " 94%|█████████▍| 2.07M/2.19M [00:23<00:01, 95.6kiB/s]\u001B[A\n",
      " 95%|█████████▌| 2.08M/2.19M [00:24<00:01, 71.5kiB/s]\u001B[A\n",
      " 97%|█████████▋| 2.12M/2.19M [00:24<00:00, 77.9kiB/s]\u001B[A\n",
      "100%|██████████| 2.19M/2.19M [00:24<00:00, 87.9kiB/s]\u001B[A"
     ]
    },
    {
     "name": "stdout",
     "output_type": "stream",
     "text": [
      "[2023/10/19 11:40:35] ppocr DEBUG: Namespace(help='==SUPPRESS==', use_gpu=False, use_xpu=False, use_npu=False, ir_optim=True, use_tensorrt=False, min_subgraph_size=15, precision='fp32', gpu_mem=500, image_dir=None, page_num=0, det_algorithm='DB', det_model_dir='/Users/vhmt.vn/.paddleocr/whl/det/en/en_PP-OCRv3_det_infer', det_limit_side_len=960, det_limit_type='max', det_box_type='quad', det_db_thresh=0.3, det_db_box_thresh=0.6, det_db_unclip_ratio=1.5, max_batch_size=10, use_dilation=False, det_db_score_mode='fast', det_east_score_thresh=0.8, det_east_cover_thresh=0.1, det_east_nms_thresh=0.2, det_sast_score_thresh=0.5, det_sast_nms_thresh=0.2, det_pse_thresh=0, det_pse_box_thresh=0.85, det_pse_min_area=16, det_pse_scale=1, scales=[8, 16, 32], alpha=1.0, beta=1.0, fourier_degree=5, rec_algorithm='SVTR_LCNet', rec_model_dir='/Users/vhmt.vn/.paddleocr/whl/rec/en/en_PP-OCRv3_rec_infer', rec_image_inverse=True, rec_image_shape='3, 48, 320', rec_batch_num=6, max_text_length=25, rec_char_dict_path='/Users/vhmt.vn/Documents/COMP1620/GTable/.env/lib/python3.9/site-packages/paddleocr/ppocr/utils/en_dict.txt', use_space_char=True, vis_font_path='./doc/fonts/simfang.ttf', drop_score=0.5, e2e_algorithm='PGNet', e2e_model_dir=None, e2e_limit_side_len=768, e2e_limit_type='max', e2e_pgnet_score_thresh=0.5, e2e_char_dict_path='./ppocr/utils/ic15_dict.txt', e2e_pgnet_valid_set='totaltext', e2e_pgnet_mode='fast', use_angle_cls=False, cls_model_dir='/Users/vhmt.vn/.paddleocr/whl/cls/ch_ppocr_mobile_v2.0_cls_infer', cls_image_shape='3, 48, 192', label_list=['0', '180'], cls_batch_num=6, cls_thresh=0.9, enable_mkldnn=False, cpu_threads=10, use_pdserving=False, warmup=False, sr_model_dir=None, sr_image_shape='3, 32, 128', sr_batch_num=1, draw_img_save_dir='./inference_results', save_crop_res=False, crop_res_save_dir='./output', use_mp=False, total_process_num=1, process_id=0, benchmark=False, save_log_path='./log_output/', show_log=True, use_onnx=False, output='./output', table_max_len=488, table_algorithm='TableAttn', table_model_dir=None, merge_no_span_structure=True, table_char_dict_path=None, layout_model_dir=None, layout_dict_path=None, layout_score_threshold=0.5, layout_nms_threshold=0.5, kie_algorithm='LayoutXLM', ser_model_dir=None, re_model_dir=None, use_visual_backbone=True, ser_dict_path='../train_data/XFUND/class_list_xfun.txt', ocr_order_method=None, mode='structure', image_orientation=False, layout=True, table=True, ocr=True, recovery=False, use_pdf2docx_api=False, lang='en', det=True, rec=True, type='ocr', ocr_version='PP-OCRv3', structure_version='PP-StructureV2')\n"
     ]
    },
    {
     "name": "stderr",
     "output_type": "stream",
     "text": [
      "\n",
      "I1019 11:40:35.926743 1591471744 analysis_config.cc:424] use_dlnne_:0\n",
      "I1019 11:40:35.926829 1591471744 analysis_config.cc:424] use_dlnne_:0\n",
      "I1019 11:40:35.926849 1591471744 analysis_config.cc:424] use_dlnne_:0\n",
      "I1019 11:40:35.926865 1591471744 analysis_config.cc:424] use_dlnne_:0\n",
      "\u001B[37m---    Fused 0 subgraphs into layer_norm op.\u001B[0m\n"
     ]
    },
    {
     "name": "stdout",
     "output_type": "stream",
     "text": [
      "[2023/10/19 11:40:36] ppocr WARNING: Since the angle classifier is not initialized, the angle classifier will not be uesd during the forward process\n",
      "[2023/10/19 11:40:36] ppocr DEBUG: dt_boxes num : 18, elapse : 0.07433319091796875\n"
     ]
    },
    {
     "name": "stderr",
     "output_type": "stream",
     "text": [
      "\u001B[37m---    Fused 0 subgraphs into layer_norm op.\u001B[0m\n"
     ]
    },
    {
     "name": "stdout",
     "output_type": "stream",
     "text": [
      "[2023/10/19 11:40:38] ppocr DEBUG: rec_res num  : 18, elapse : 1.6089918613433838\n"
     ]
    }
   ],
   "source": [
    "ocr = PaddleOCR(lang='en')\n",
    "image_path = './test_im.png'\n",
    "image_cv = cv2.imread(image_path)\n",
    "image_height = image_cv.shape[0]\n",
    "image_width = image_cv.shape[1]\n",
    "output = ocr.ocr(image_path)[0]"
   ],
   "metadata": {
    "collapsed": false,
    "ExecuteTime": {
     "end_time": "2023-10-19T04:40:38.387421Z",
     "start_time": "2023-10-19T04:39:19.102620Z"
    }
   },
   "id": "7612bb1d85c261e"
  },
  {
   "cell_type": "code",
   "execution_count": 31,
   "outputs": [
    {
     "name": "stdout",
     "output_type": "stream",
     "text": [
      "[[[[50.0, 8.0], [76.0, 11.0], [74.0, 29.0], [48.0, 25.0]], ('city', 0.8954572677612305)], [[[148.0, 12.0], [191.0, 12.0], [191.0, 27.0], [148.0, 27.0]], ('Region', 0.9966583251953125)], [[[252.0, 13.0], [313.0, 13.0], [313.0, 25.0], [252.0, 25.0]], ('Profession', 0.9961961507797241)], [[[10.0, 47.0], [55.0, 47.0], [55.0, 62.0], [10.0, 62.0]], ('Denver', 0.9973166584968567)], [[[125.0, 47.0], [210.0, 47.0], [210.0, 61.0], [125.0, 61.0]], ('Intermountain', 0.9913104772567749)], [[[226.0, 47.0], [289.0, 47.0], [289.0, 62.0], [226.0, 62.0]], ('Spiderman', 0.9975297451019287)], [[[9.0, 80.0], [110.0, 81.0], [110.0, 96.0], [9.0, 95.0]], ('Sherwood Forest', 0.9785197973251343)], [[[125.0, 82.0], [180.0, 82.0], [180.0, 94.0], [125.0, 94.0]], ('European', 0.9969998598098755)], [[[225.0, 81.0], [266.0, 81.0], [266.0, 96.0], [225.0, 96.0]], ('Archer', 0.9980616569519043)], [[[10.0, 116.0], [61.0, 116.0], [61.0, 131.0], [10.0, 131.0]], ('La Barre', 0.9275311827659607)], [[[125.0, 116.0], [182.0, 116.0], [182.0, 131.0], [125.0, 131.0]], ('European', 0.9366865158081055)], [[[226.0, 116.0], [319.0, 116.0], [319.0, 130.0], [226.0, 130.0]], ('Starship Captain', 0.9778756499290466)], [[[9.0, 151.0], [39.0, 151.0], [39.0, 166.0], [9.0, 166.0]], ('Nixa', 0.9962677359580994)], [[[125.0, 151.0], [169.0, 151.0], [169.0, 166.0], [125.0, 166.0]], ('Central', 0.996749997138977)], [[[226.0, 151.0], [284.0, 151.0], [284.0, 166.0], [226.0, 166.0]], ('CIA Agent', 0.9377549290657043)], [[[10.0, 184.0], [67.0, 184.0], [67.0, 199.0], [10.0, 199.0]], ('Smallville', 0.9567995071411133)], [[[125.0, 184.0], [169.0, 184.0], [169.0, 200.0], [125.0, 200.0]], ('Central', 0.9967823624610901)], [[[225.0, 185.0], [286.0, 185.0], [286.0, 200.0], [225.0, 200.0]], ('Superman', 0.9971522688865662)]]\n"
     ]
    }
   ],
   "source": [
    "print(output)"
   ],
   "metadata": {
    "collapsed": false,
    "ExecuteTime": {
     "end_time": "2023-10-19T04:42:27.675067Z",
     "start_time": "2023-10-19T04:42:27.659285Z"
    }
   },
   "id": "705771f45f26cdba"
  },
  {
   "cell_type": "code",
   "execution_count": 32,
   "outputs": [],
   "source": [
    "boxes = [line[0] for line in output]\n",
    "texts = [line[1][0] for line in output]\n",
    "probabilities = [line[1][1] for line in output]"
   ],
   "metadata": {
    "collapsed": false,
    "ExecuteTime": {
     "end_time": "2023-10-19T04:42:41.197293Z",
     "start_time": "2023-10-19T04:42:41.181453Z"
    }
   },
   "id": "b96b00e4d4bd0b6f"
  },
  {
   "cell_type": "code",
   "execution_count": 33,
   "outputs": [],
   "source": [
    "image_boxes = image_cv.copy()"
   ],
   "metadata": {
    "collapsed": false,
    "ExecuteTime": {
     "end_time": "2023-10-19T04:42:50.742874Z",
     "start_time": "2023-10-19T04:42:50.722406Z"
    }
   },
   "id": "56ca0e7de3f335df"
  },
  {
   "cell_type": "code",
   "execution_count": 34,
   "outputs": [],
   "source": [
    "for box,text in zip(boxes,texts):\n",
    "  cv2.rectangle(image_boxes, (int(box[0][0]),int(box[0][1])), (int(box[2][0]),int(box[2][1])),(0,0,255),1)\n",
    "  cv2.putText(image_boxes, text,(int(box[0][0]),int(box[0][1])),cv2.FONT_HERSHEY_SIMPLEX,1,(222,0,0),1)"
   ],
   "metadata": {
    "collapsed": false,
    "ExecuteTime": {
     "end_time": "2023-10-19T04:43:03.158037Z",
     "start_time": "2023-10-19T04:43:03.137210Z"
    }
   },
   "id": "4b36595213c7c153"
  },
  {
   "cell_type": "code",
   "execution_count": 35,
   "outputs": [
    {
     "data": {
      "text/plain": "True"
     },
     "execution_count": 35,
     "metadata": {},
     "output_type": "execute_result"
    }
   ],
   "source": [
    "cv2.imwrite('detections.png', image_boxes)"
   ],
   "metadata": {
    "collapsed": false,
    "ExecuteTime": {
     "end_time": "2023-10-19T04:43:14.544575Z",
     "start_time": "2023-10-19T04:43:14.520254Z"
    }
   },
   "id": "f4bc6e810253a61b"
  },
  {
   "cell_type": "code",
   "execution_count": 36,
   "outputs": [],
   "source": [
    "im = image_cv.copy()\n"
   ],
   "metadata": {
    "collapsed": false,
    "ExecuteTime": {
     "end_time": "2023-10-19T04:43:24.690994Z",
     "start_time": "2023-10-19T04:43:24.671611Z"
    }
   },
   "id": "b58c10e8c16aa0d8"
  },
  {
   "cell_type": "code",
   "execution_count": 37,
   "outputs": [],
   "source": [
    "horiz_boxes = []\n",
    "vert_boxes = []\n",
    "\n",
    "for box in boxes:\n",
    "  x_h, x_v = 0,int(box[0][0])\n",
    "  y_h, y_v = int(box[0][1]),0\n",
    "  width_h,width_v = image_width, int(box[2][0]-box[0][0])\n",
    "  height_h,height_v = int(box[2][1]-box[0][1]),image_height\n",
    "\n",
    "  horiz_boxes.append([x_h,y_h,x_h+width_h,y_h+height_h])\n",
    "  vert_boxes.append([x_v,y_v,x_v+width_v,y_v+height_v])\n",
    "\n",
    "  cv2.rectangle(im,(x_h,y_h), (x_h+width_h,y_h+height_h),(0,0,255),1)\n",
    "  cv2.rectangle(im,(x_v,y_v), (x_v+width_v,y_v+height_v),(0,255,0),1)"
   ],
   "metadata": {
    "collapsed": false,
    "ExecuteTime": {
     "end_time": "2023-10-19T04:43:31.815043Z",
     "start_time": "2023-10-19T04:43:31.790075Z"
    }
   },
   "id": "b7756914628fe3f5"
  },
  {
   "cell_type": "code",
   "execution_count": 38,
   "outputs": [
    {
     "data": {
      "text/plain": "True"
     },
     "execution_count": 38,
     "metadata": {},
     "output_type": "execute_result"
    }
   ],
   "source": [
    "cv2.imwrite('horiz_vert.png',im)"
   ],
   "metadata": {
    "collapsed": false,
    "ExecuteTime": {
     "end_time": "2023-10-19T04:43:48.917950Z",
     "start_time": "2023-10-19T04:43:48.893264Z"
    }
   },
   "id": "586ac8549c6f50c3"
  },
  {
   "cell_type": "code",
   "execution_count": 39,
   "outputs": [
    {
     "name": "stderr",
     "output_type": "stream",
     "text": [
      "2023-10-19 11:49:38.298039: I tensorflow/core/platform/cpu_feature_guard.cc:182] This TensorFlow binary is optimized to use available CPU instructions in performance-critical operations.\n",
      "To enable the following instructions: AVX2 FMA, in other operations, rebuild TensorFlow with the appropriate compiler flags.\n"
     ]
    }
   ],
   "source": [
    "import tensorflow as tf"
   ],
   "metadata": {
    "collapsed": false,
    "ExecuteTime": {
     "end_time": "2023-10-19T04:49:42.193585Z",
     "start_time": "2023-10-19T04:49:31.197818Z"
    }
   },
   "id": "5d1706168bf8c954"
  },
  {
   "cell_type": "code",
   "execution_count": 40,
   "outputs": [],
   "source": [
    "horiz_out = tf.image.non_max_suppression(\n",
    "    horiz_boxes,\n",
    "    probabilities,\n",
    "    max_output_size = 1000,\n",
    "    iou_threshold=0.1,\n",
    "    score_threshold=float('-inf'),\n",
    "    name=None\n",
    ")"
   ],
   "metadata": {
    "collapsed": false,
    "ExecuteTime": {
     "end_time": "2023-10-19T04:49:54.274807Z",
     "start_time": "2023-10-19T04:49:54.269334Z"
    }
   },
   "id": "5aac9071e5eea61"
  },
  {
   "cell_type": "code",
   "execution_count": 43,
   "outputs": [],
   "source": [
    "import numpy as np"
   ],
   "metadata": {
    "collapsed": false,
    "ExecuteTime": {
     "end_time": "2023-10-19T04:50:20.436022Z",
     "start_time": "2023-10-19T04:50:20.428955Z"
    }
   },
   "id": "5b4a65b1a554ab29"
  },
  {
   "cell_type": "code",
   "execution_count": 44,
   "outputs": [
    {
     "name": "stdout",
     "output_type": "stream",
     "text": [
      "[ 1  5  8 11 13 17]\n"
     ]
    }
   ],
   "source": [
    "horiz_lines = np.sort(np.array(horiz_out))\n",
    "print(horiz_lines)"
   ],
   "metadata": {
    "collapsed": false,
    "ExecuteTime": {
     "end_time": "2023-10-19T04:50:22.619175Z",
     "start_time": "2023-10-19T04:50:22.595473Z"
    }
   },
   "id": "431b3b06d6a3bccb"
  },
  {
   "cell_type": "code",
   "execution_count": 45,
   "outputs": [],
   "source": [
    "im_nms = image_cv.copy()"
   ],
   "metadata": {
    "collapsed": false,
    "ExecuteTime": {
     "end_time": "2023-10-19T04:50:28.964244Z",
     "start_time": "2023-10-19T04:50:28.939984Z"
    }
   },
   "id": "e7db8528fabe736c"
  },
  {
   "cell_type": "code",
   "execution_count": 46,
   "outputs": [],
   "source": [
    "for val in horiz_lines:\n",
    "  cv2.rectangle(im_nms, (int(horiz_boxes[val][0]),int(horiz_boxes[val][1])), (int(horiz_boxes[val][2]),int(horiz_boxes[val][3])),(0,0,255),1)"
   ],
   "metadata": {
    "collapsed": false,
    "ExecuteTime": {
     "end_time": "2023-10-19T04:50:36.385973Z",
     "start_time": "2023-10-19T04:50:36.360434Z"
    }
   },
   "id": "49c8b2b9e4fe119"
  },
  {
   "cell_type": "code",
   "execution_count": 47,
   "outputs": [
    {
     "data": {
      "text/plain": "True"
     },
     "execution_count": 47,
     "metadata": {},
     "output_type": "execute_result"
    }
   ],
   "source": [
    "cv2.imwrite('im_nms.png',im_nms)"
   ],
   "metadata": {
    "collapsed": false,
    "ExecuteTime": {
     "end_time": "2023-10-19T04:50:47.491656Z",
     "start_time": "2023-10-19T04:50:47.458641Z"
    }
   },
   "id": "48c54e2e19d702fb"
  },
  {
   "cell_type": "code",
   "execution_count": 48,
   "outputs": [],
   "source": [
    "vert_out = tf.image.non_max_suppression(\n",
    "    vert_boxes,\n",
    "    probabilities,\n",
    "    max_output_size = 1000,\n",
    "    iou_threshold=0.1,\n",
    "    score_threshold=float('-inf'),\n",
    "    name=None\n",
    ")"
   ],
   "metadata": {
    "collapsed": false,
    "ExecuteTime": {
     "end_time": "2023-10-19T04:50:55.686522Z",
     "start_time": "2023-10-19T04:50:55.654893Z"
    }
   },
   "id": "83eba615ff3cdf40"
  },
  {
   "cell_type": "code",
   "execution_count": 49,
   "outputs": [
    {
     "name": "stdout",
     "output_type": "stream",
     "text": [
      "tf.Tensor([8 3 7 0], shape=(4,), dtype=int32)\n"
     ]
    }
   ],
   "source": [
    "print(vert_out)"
   ],
   "metadata": {
    "collapsed": false,
    "ExecuteTime": {
     "end_time": "2023-10-19T04:51:02.119767Z",
     "start_time": "2023-10-19T04:51:02.093018Z"
    }
   },
   "id": "cbcfbfb6d9870471"
  },
  {
   "cell_type": "code",
   "execution_count": 50,
   "outputs": [
    {
     "name": "stdout",
     "output_type": "stream",
     "text": [
      "[0 3 7 8]\n"
     ]
    }
   ],
   "source": [
    "vert_lines = np.sort(np.array(vert_out))\n",
    "print(vert_lines)"
   ],
   "metadata": {
    "collapsed": false,
    "ExecuteTime": {
     "end_time": "2023-10-19T04:51:11.506340Z",
     "start_time": "2023-10-19T04:51:11.477140Z"
    }
   },
   "id": "7afb96cdbad827e6"
  },
  {
   "cell_type": "code",
   "execution_count": 51,
   "outputs": [],
   "source": [
    "for val in vert_lines:\n",
    "  cv2.rectangle(im_nms, (int(vert_boxes[val][0]),int(vert_boxes[val][1])), (int(vert_boxes[val][2]),int(vert_boxes[val][3])),(255,0,0),1)"
   ],
   "metadata": {
    "collapsed": false,
    "ExecuteTime": {
     "end_time": "2023-10-19T04:51:17.987735Z",
     "start_time": "2023-10-19T04:51:17.960355Z"
    }
   },
   "id": "43b7297aa125d2fe"
  },
  {
   "cell_type": "code",
   "execution_count": 52,
   "outputs": [
    {
     "data": {
      "text/plain": "True"
     },
     "execution_count": 52,
     "metadata": {},
     "output_type": "execute_result"
    }
   ],
   "source": [
    "cv2.imwrite('im_nms.png',im_nms)"
   ],
   "metadata": {
    "collapsed": false,
    "ExecuteTime": {
     "end_time": "2023-10-19T04:51:50.406261Z",
     "start_time": "2023-10-19T04:51:50.371304Z"
    }
   },
   "id": "75c159e3c7e7c8d0"
  },
  {
   "cell_type": "code",
   "execution_count": 53,
   "outputs": [
    {
     "name": "stdout",
     "output_type": "stream",
     "text": [
      "(6, 4)\n",
      "[['', '', '', ''], ['', '', '', ''], ['', '', '', ''], ['', '', '', ''], ['', '', '', ''], ['', '', '', '']]\n"
     ]
    }
   ],
   "source": [
    "out_array = [[\"\" for i in range(len(vert_lines))] for j in range(len(horiz_lines))]\n",
    "print(np.array(out_array).shape)\n",
    "print(out_array)"
   ],
   "metadata": {
    "collapsed": false,
    "ExecuteTime": {
     "end_time": "2023-10-19T04:52:27.538003Z",
     "start_time": "2023-10-19T04:52:27.506866Z"
    }
   },
   "id": "eec2a3f094d3647e"
  },
  {
   "cell_type": "code",
   "execution_count": 54,
   "outputs": [
    {
     "name": "stdout",
     "output_type": "stream",
     "text": [
      "[50, 0, 74, 208]\n",
      "[10, 0, 55, 208]\n",
      "[125, 0, 180, 208]\n",
      "[225, 0, 266, 208]\n"
     ]
    }
   ],
   "source": [
    "unordered_boxes = []\n",
    "\n",
    "for i in vert_lines:\n",
    "  print(vert_boxes[i])\n",
    "  unordered_boxes.append(vert_boxes[i][0])"
   ],
   "metadata": {
    "collapsed": false,
    "ExecuteTime": {
     "end_time": "2023-10-19T04:52:35.961143Z",
     "start_time": "2023-10-19T04:52:35.933940Z"
    }
   },
   "id": "8325a2eb8fb77c5d"
  },
  {
   "cell_type": "code",
   "execution_count": 55,
   "outputs": [
    {
     "name": "stdout",
     "output_type": "stream",
     "text": [
      "[1 0 2 3]\n"
     ]
    }
   ],
   "source": [
    "ordered_boxes = np.argsort(unordered_boxes)\n",
    "print(ordered_boxes)"
   ],
   "metadata": {
    "collapsed": false,
    "ExecuteTime": {
     "end_time": "2023-10-19T04:52:42.816145Z",
     "start_time": "2023-10-19T04:52:42.779606Z"
    }
   },
   "id": "32e89d46116fa8a6"
  },
  {
   "cell_type": "code",
   "execution_count": 56,
   "outputs": [],
   "source": [
    "def intersection(box_1, box_2):\n",
    "  return [box_2[0], box_1[1],box_2[2], box_1[3]]"
   ],
   "metadata": {
    "collapsed": false,
    "ExecuteTime": {
     "end_time": "2023-10-19T04:52:52.551935Z",
     "start_time": "2023-10-19T04:52:52.487953Z"
    }
   },
   "id": "8f0a7ddda332eb52"
  },
  {
   "cell_type": "code",
   "execution_count": 57,
   "outputs": [],
   "source": [
    "def iou(box_1, box_2):\n",
    "\n",
    "  x_1 = max(box_1[0], box_2[0])\n",
    "  y_1 = max(box_1[1], box_2[1])\n",
    "  x_2 = min(box_1[2], box_2[2])\n",
    "  y_2 = min(box_1[3], box_2[3])\n",
    "\n",
    "  inter = abs(max((x_2 - x_1, 0)) * max((y_2 - y_1), 0))\n",
    "  if inter == 0:\n",
    "      return 0\n",
    "      \n",
    "  box_1_area = abs((box_1[2] - box_1[0]) * (box_1[3] - box_1[1]))\n",
    "  box_2_area = abs((box_2[2] - box_2[0]) * (box_2[3] - box_2[1]))\n",
    "  \n",
    "  return inter / float(box_1_area + box_2_area - inter)"
   ],
   "metadata": {
    "collapsed": false,
    "ExecuteTime": {
     "end_time": "2023-10-19T04:53:00.012477Z",
     "start_time": "2023-10-19T04:52:59.979211Z"
    }
   },
   "id": "2acce4d101d8fbc8"
  },
  {
   "cell_type": "code",
   "execution_count": 58,
   "outputs": [],
   "source": [
    "for i in range(len(horiz_lines)):\n",
    "  for j in range(len(vert_lines)):\n",
    "    resultant = intersection(horiz_boxes[horiz_lines[i]], vert_boxes[vert_lines[ordered_boxes[j]]] )\n",
    "\n",
    "    for b in range(len(boxes)):\n",
    "      the_box = [boxes[b][0][0],boxes[b][0][1],boxes[b][2][0],boxes[b][2][1]]\n",
    "      if(iou(resultant,the_box)>0.1):\n",
    "        out_array[i][j] = texts[b]"
   ],
   "metadata": {
    "collapsed": false,
    "ExecuteTime": {
     "end_time": "2023-10-19T04:53:07.444740Z",
     "start_time": "2023-10-19T04:53:07.400351Z"
    }
   },
   "id": "12954368cf8dc1a8"
  },
  {
   "cell_type": "code",
   "execution_count": 59,
   "outputs": [],
   "source": [
    "out_array=np.array(out_array)"
   ],
   "metadata": {
    "collapsed": false,
    "ExecuteTime": {
     "end_time": "2023-10-19T04:53:13.324903Z",
     "start_time": "2023-10-19T04:53:13.273737Z"
    }
   },
   "id": "9b6fbf0d8170cb5d"
  },
  {
   "cell_type": "code",
   "execution_count": 60,
   "outputs": [
    {
     "data": {
      "text/plain": "array([['', 'city', 'Region', 'Profession'],\n       ['Denver', '', 'Intermountain', 'Spiderman'],\n       ['Sherwood Forest', 'Sherwood Forest', 'European', 'Archer'],\n       ['La Barre', 'La Barre', 'European', 'Starship Captain'],\n       ['Nixa', '', 'Central', 'CIA Agent'],\n       ['Smallville', 'Smallville', 'Central', 'Superman']], dtype='<U16')"
     },
     "execution_count": 60,
     "metadata": {},
     "output_type": "execute_result"
    }
   ],
   "source": [
    "out_array"
   ],
   "metadata": {
    "collapsed": false,
    "ExecuteTime": {
     "end_time": "2023-10-19T04:53:19.851165Z",
     "start_time": "2023-10-19T04:53:19.770652Z"
    }
   },
   "id": "3bd300131c624d53"
  },
  {
   "cell_type": "code",
   "execution_count": 61,
   "outputs": [
    {
     "ename": "NameError",
     "evalue": "name 'pd' is not defined",
     "output_type": "error",
     "traceback": [
      "\u001B[0;31m---------------------------------------------------------------------------\u001B[0m",
      "\u001B[0;31mNameError\u001B[0m                                 Traceback (most recent call last)",
      "Cell \u001B[0;32mIn[61], line 1\u001B[0m\n\u001B[0;32m----> 1\u001B[0m \u001B[43mpd\u001B[49m\u001B[38;5;241m.\u001B[39mDataFrame(out_array)\u001B[38;5;241m.\u001B[39mto_csv(\u001B[38;5;124m'\u001B[39m\u001B[38;5;124msample.csv\u001B[39m\u001B[38;5;124m'\u001B[39m)\n",
      "\u001B[0;31mNameError\u001B[0m: name 'pd' is not defined"
     ]
    }
   ],
   "source": [
    "pd.DataFrame(out_array).to_csv('sample.csv')"
   ],
   "metadata": {
    "collapsed": false,
    "ExecuteTime": {
     "end_time": "2023-10-19T04:53:38.183652Z",
     "start_time": "2023-10-19T04:53:38.130256Z"
    }
   },
   "id": "1443d14a47b2e6e4"
  },
  {
   "cell_type": "code",
   "execution_count": 62,
   "outputs": [],
   "source": [
    "import pandas as pd"
   ],
   "metadata": {
    "collapsed": false,
    "ExecuteTime": {
     "end_time": "2023-10-19T04:53:56.385631Z",
     "start_time": "2023-10-19T04:53:56.337175Z"
    }
   },
   "id": "9f7c8f1b1f22038c"
  },
  {
   "cell_type": "code",
   "execution_count": 63,
   "outputs": [],
   "source": [
    "pd.DataFrame(out_array).to_csv('sample.csv')"
   ],
   "metadata": {
    "collapsed": false,
    "ExecuteTime": {
     "end_time": "2023-10-19T04:54:01.858822Z",
     "start_time": "2023-10-19T04:54:01.820236Z"
    }
   },
   "id": "a7887f587dd2eb6c"
  },
  {
   "cell_type": "code",
   "execution_count": 64,
   "outputs": [
    {
     "name": "stdout",
     "output_type": "stream",
     "text": [
      "['', '', '', '']\n"
     ]
    }
   ],
   "source": [
    "current_bank=['']*len(out_array[0,:])\n",
    "print(current_bank)"
   ],
   "metadata": {
    "collapsed": false,
    "ExecuteTime": {
     "end_time": "2023-10-19T04:54:09.666461Z",
     "start_time": "2023-10-19T04:54:09.627349Z"
    }
   },
   "id": "f1f85ad594dea14"
  },
  {
   "cell_type": "code",
   "execution_count": 65,
   "outputs": [],
   "source": [
    "def empty(arr):\n",
    "  for i in arr:\n",
    "    if i=='':\n",
    "      return True\n",
    "  return False"
   ],
   "metadata": {
    "collapsed": false,
    "ExecuteTime": {
     "end_time": "2023-10-19T04:54:17.002344Z",
     "start_time": "2023-10-19T04:54:16.964571Z"
    }
   },
   "id": "ba927e2ef207b8ae"
  },
  {
   "cell_type": "code",
   "execution_count": 66,
   "outputs": [],
   "source": [
    "cleaned_array=[]"
   ],
   "metadata": {
    "collapsed": false,
    "ExecuteTime": {
     "end_time": "2023-10-19T04:54:22.003801Z",
     "start_time": "2023-10-19T04:54:21.950376Z"
    }
   },
   "id": "157132fb64e3029b"
  },
  {
   "cell_type": "code",
   "execution_count": 67,
   "outputs": [
    {
     "name": "stdout",
     "output_type": "stream",
     "text": [
      "--> [' ', ' city', ' Region', ' Profession']\n",
      "--> ['  Denver', ' city ', ' Region Intermountain', ' Profession Spiderman']\n",
      "--> ['La Barre Nixa', 'La Barre ', 'European Central', 'Starship Captain CIA Agent']\n",
      "[['Sherwood Forest' 'Sherwood Forest' 'European' 'Archer']\n",
      " ['La Barre Nixa' 'La Barre ' 'European Central'\n",
      "  'Starship Captain CIA Agent']\n",
      " ['Smallville' 'Smallville' 'Central' 'Superman']]\n"
     ]
    }
   ],
   "source": [
    "for i in range(len(out_array)):\n",
    "  if not empty(out_array[i]):\n",
    "    current_bank=[out_array[i][j] for j in range(len(out_array[i]))]\n",
    "    cleaned_array.append(current_bank)\n",
    "    not_empty=True\n",
    "  else:\n",
    "    for j in range(len(out_array[i])):\n",
    "      current_bank[j]+=' '+out_array[i][j]\n",
    "    print('-->',current_bank)\n",
    "cleaned_array=np.array(cleaned_array)\n",
    "print(cleaned_array)"
   ],
   "metadata": {
    "collapsed": false,
    "ExecuteTime": {
     "end_time": "2023-10-19T04:54:29.116915Z",
     "start_time": "2023-10-19T04:54:29.071476Z"
    }
   },
   "id": "c9d2d02704c4ef8f"
  },
  {
   "cell_type": "code",
   "execution_count": 68,
   "outputs": [],
   "source": [
    "pd.DataFrame(cleaned_array).to_csv('cleaned.csv')"
   ],
   "metadata": {
    "collapsed": false,
    "ExecuteTime": {
     "end_time": "2023-10-19T04:54:41.078895Z",
     "start_time": "2023-10-19T04:54:41.040580Z"
    }
   },
   "id": "df4586a4d7ca2a41"
  },
  {
   "cell_type": "code",
   "execution_count": null,
   "outputs": [],
   "source": [],
   "metadata": {
    "collapsed": false
   },
   "id": "cfc4fa4cc80edb63"
  }
 ],
 "metadata": {
  "kernelspec": {
   "display_name": "Python 3",
   "language": "python",
   "name": "python3"
  },
  "language_info": {
   "codemirror_mode": {
    "name": "ipython",
    "version": 2
   },
   "file_extension": ".py",
   "mimetype": "text/x-python",
   "name": "python",
   "nbconvert_exporter": "python",
   "pygments_lexer": "ipython2",
   "version": "2.7.6"
  }
 },
 "nbformat": 4,
 "nbformat_minor": 5
}
